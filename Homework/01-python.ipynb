{
 "cells": [
  {
   "cell_type": "markdown",
   "metadata": {
    "deletable": true,
    "editable": true
   },
   "source": [
    "# Project 1 : Python"
   ]
  },
  {
   "cell_type": "markdown",
   "metadata": {
    "deletable": true,
    "editable": true
   },
   "source": [
    "## Instructions\n",
    "\n",
    "### Description\n",
    "\n",
    "Below are a random assortment of exercises to practice using Python, some fairly trivial, and and some more challenging.\n",
    "\n",
    "### Instructions\n",
    "\n",
    "In each problem, you are given a sample input in one cell, and asked to create code in the following cell to process the input in some way.  Since we won't study functions and lambdas until after this is assigned, you do not need to create functions (or lambdas) to solve any of these - just a few lines of code using the variable provided in the input cell (be sure to execute the input cell before trying your code!)\n",
    "\n",
    "Unless specified, you are free to solve the problems in any way you are comfortable, including using Python libraries you are familiar with (but all of these are solvable just using Python's built-in features, plus maybe the `math` library).  The more concise your problem, the better (in general) and easier for us to grade!\n",
    "\n",
    "### Grading\n",
    "\n",
    "For grading purposes, we will clear all outputs from all your cells and then run them all from the top.  Please test your notebook in the same fashion before turning it in.\n",
    "\n",
    "### Submitting Your Solution\n",
    "\n",
    "To submit your notebook, first clear all the cells (this won't matter too much this time, but for larger data sets in the future, it will make the file smaller).  Then use the File->Download As->Notebook to obtain the notebook file.  Finally, submit the notebook file on Canvas.\n",
    "\n",
    "### Hints\n",
    "\n",
    "- The sample inputs we give you below may be hard to work with.  Open up new cells in this or another notebook and test simpler inputs, if needed, to make debugging easier.\n",
    "- Often times Python provides a built-in function or library to make tasks easier.  Spend some time in the Python docs (or Google) searching for what you need.\n",
    "- While comprehensions, slices, and other Python \"goodies\" often provide the most elegant solution, it is often easier (when used to other languages) to start with a `for` loop solution, and then migrate that solution."
   ]
  },
  {
   "cell_type": "markdown",
   "metadata": {
    "deletable": true,
    "editable": true
   },
   "source": [
    "---\n",
    "\n",
    "#### Problem 1: Basic Statistics (20 points)\n",
    "\n",
    "Given the list `numbers` containing (surprise!) numbers, calculate the following statistics on the list: maximum, minimum, sample mean (average), and the standard deviation (use the *corrected sample standard deviation*, i.e., the square root of the unbiased sample variance. If you aren't familiar with the corrected sample standard deviation, see https://en.wikipedia.org/wiki/Standard_deviation#Corrected_sample_standard_deviation.).  You'll need to `import math` to get access to the `math.sqrt()` function.\n",
    "\n",
    "Print the result in the format (not with these numbers!)\n",
    "```\n",
    "max: 7.312234\n",
    "min: -1.4124\n",
    "avg: 0.11030\n",
    "std: 7.313214 \n",
    "```"
   ]
  },
  {
   "cell_type": "code",
   "execution_count": 1,
   "metadata": {
    "collapsed": true,
    "deletable": true,
    "editable": true
   },
   "outputs": [],
   "source": [
    "numbers = [0.26, 0.43, 0.72, 1.39, 3.45, 1.27, -1.98, 1.83, 1.54, -2.78, \n",
    "           1.06, 1.54, 3.28, -0.84, -2.25, -0.2, -3.38, -0.44, 2.02, 3.51]"
   ]
  },
  {
   "cell_type": "code",
   "execution_count": 3,
   "metadata": {
    "collapsed": false,
    "deletable": true,
    "editable": true
   },
   "outputs": [
    {
     "name": "stdout",
     "output_type": "stream",
     "text": [
      "max: 3.51\n",
      "min: -3.38\n",
      "avg: 0.5215\n",
      "std: 2.003006358872635\n"
     ]
    }
   ],
   "source": [
    "from math import sqrt\n",
    "\n",
    "N = len(numbers)\n",
    "avg = sum(numbers)/N\n",
    "deviantSum = 0.0\n",
    "for num in numbers:\n",
    "    deviantSum += (num-avg)**2\n",
    "    \n",
    "print(\"max: \"+repr(max(numbers)))\n",
    "print(\"min: \"+repr(min(numbers)))\n",
    "print(\"avg: \"+repr(avg))\n",
    "print(\"std: \"+repr(sqrt(deviantSum/(N-1))))\n"
   ]
  },
  {
   "cell_type": "markdown",
   "metadata": {
    "deletable": true,
    "editable": true
   },
   "source": [
    "---\n",
    "#### Problem 2: Alignment (20 points)\n",
    "\n",
    "Given a list of items named `original` and a list of lists of the same size named `alllists`, determine which (if any) of the lists are rotations of the original list.  A rotation occurs when some number of elements are removed from the front of the list and appended to the back of the list, e.g. the following are all rotations of the same list:\n",
    "\n",
    "```\n",
    "[1,2,3,4]\n",
    "[2,3,4,1]\n",
    "[3,4,1,2]\n",
    "[4,1,2,3]\n",
    "```\n",
    "\n",
    "For your solution, create and print a list of Boolean values, where a `True` value means the corresponding list was a rotation, and a `False` means the list was not a rotation."
   ]
  },
  {
   "cell_type": "code",
   "execution_count": 5,
   "metadata": {
    "collapsed": false,
    "deletable": true,
    "editable": true
   },
   "outputs": [],
   "source": [
    "original = [22, 23, 30, 38, 7, 10, 8, 48, 7, 29, 16, 35, 43, 39, 32, 25, 38, 48, 18, 18]\n",
    "alllists = [\n",
    "    [10, 8, 48, 7, 29, 16, 35, 43, 39, 32, 25, 38, 48, 18, 18, 22, 23, 30, 38, 7],\n",
    "    [18, 23, 32, 29, 10, 25, 48, 7, 7, 8, 30, 38, 35, 43, 48, 22, 18, 39, 38, 16],\n",
    "    [39, 23, 18, 38, 48, 32, 16, 7, 22, 38, 30, 35, 29, 7, 10, 48, 18, 8, 25, 43],\n",
    "    [39, 32, 25, 38, 48, 18, 18, 22, 23, 30, 38, 7, 10, 8, 48, 7, 29, 16, 35, 43],\n",
    "    [30, 38, 7, 10, 8, 48, 7, 29, 16, 35, 43, 39, 32, 25, 38, 48, 18, 18, 22, 23],\n",
    "    [30, 23, 29, 7, 10, 18, 16, 22, 25, 43, 7, 32, 8, 18, 48, 35, 38, 48, 39, 38],\n",
    "    [48, 18, 18, 22, 23, 30, 38, 7, 10, 8, 48, 7, 29, 16, 35, 43, 39, 32, 25, 38]\n",
    "]"
   ]
  },
  {
   "cell_type": "code",
   "execution_count": 6,
   "metadata": {
    "collapsed": false,
    "deletable": true,
    "editable": true
   },
   "outputs": [
    {
     "name": "stdout",
     "output_type": "stream",
     "text": [
      "True\n",
      "False\n",
      "False\n",
      "True\n",
      "True\n",
      "False\n",
      "True\n"
     ]
    }
   ],
   "source": [
    "#There's a better way to do this, and itertools probably has a function for it,\n",
    "#but I decided this would be fast enough and the time it'd take to make it faster\n",
    "#wasn't worth spending for such a small increase.\n",
    "for testlist in alllists:\n",
    "    isRotation = False\n",
    "    for iteration in range(len(testlist)):\n",
    "        if testlist == original:\n",
    "            isRotation = True\n",
    "            break\n",
    "        testlist.append(testlist.pop(0))\n",
    "    print(isRotation)\n",
    "            \n"
   ]
  },
  {
   "cell_type": "markdown",
   "metadata": {
    "deletable": true,
    "editable": true
   },
   "source": [
    "---\n",
    "#### Problem 3: Word Counts (10 points)\n",
    "\n",
    "The string method `split` can be used to separate a text on specified delimiters, giving you a list of substrings.  By default, it separates on whitespace, thus giving you all the individual non-whitespace substrings in the text.  (Don't forget you can do \n",
    "```\n",
    "help(str.split)\n",
    "```\n",
    "in a cell for more info.)\n",
    "\n",
    "For this problem, take the text in the variable `text` and make and print a dictionary where each word from the text exists as a key, and where the corresponding values are the number of times the word appears in the text.  For now, you can ignore issues of punctuation and case.\n",
    "\n",
    "For example, the text 'it was the best of times it was the worst of times' would result in the output\n",
    "```\n",
    "{'it': 2, 'was': 2, 'the': 2, 'worst': 1, 'times': 2, 'best': 1, 'of': 2}\n",
    "```\n"
   ]
  },
  {
   "cell_type": "code",
   "execution_count": 7,
   "metadata": {
    "collapsed": false,
    "deletable": true,
    "editable": true
   },
   "outputs": [],
   "source": [
    "# From Dr. Seuss's Fox in Socks (punctuation stripped)\n",
    "text = '''\n",
    "through three cheese trees three free fleas flew\n",
    "while these fleas flew freezy breeze blew\n",
    "freezy breeze made these three trees freeze\n",
    "freezy trees made these trees cheese freeze\n",
    "thats what made these three free fleas sneeze'''"
   ]
  },
  {
   "cell_type": "code",
   "execution_count": 8,
   "metadata": {
    "collapsed": false,
    "deletable": true,
    "editable": true
   },
   "outputs": [
    {
     "name": "stdout",
     "output_type": "stream",
     "text": [
      "{'three': 4, 'what': 1, 'free': 2, 'thats': 1, 'flew': 2, 'while': 1, 'made': 3, 'freeze': 2, 'freezy': 3, 'fleas': 3, 'cheese': 2, 'sneeze': 1, 'blew': 1, 'trees': 4, 'breeze': 2, 'these': 4, 'through': 1}\n"
     ]
    }
   ],
   "source": [
    "splitText = text.split()\n",
    "print({word: splitText.count(word) for word in set(splitText) })\n"
   ]
  },
  {
   "cell_type": "markdown",
   "metadata": {
    "deletable": true,
    "editable": true
   },
   "source": [
    "---\n",
    "#### Problem 4: Comprehensible? (10 points)\n",
    "\n",
    "***Note:* For this problem you are required to use a list comprehension as part of your solution.**\n",
    "\n",
    "You are given a dictionary named `d` where the keys are words and the values are integers.  The output should be a list where each entry is a string containing a key from the dictionary replicated a number of times according to the corresponding value.  The output should be in sorted order by key.  For example, if the dictionary is\n",
    "```\n",
    "{'foo' : 3, 'bar' : 2}\n",
    "```\n",
    "the output should be\n",
    "```\n",
    "['barbar', 'foofoofoo']\n",
    "```\n",
    "*Hint:* try \"multiplying\" a sequence (like a string) by an integer using `*`.  See if you can do this one in a single line of code!"
   ]
  },
  {
   "cell_type": "code",
   "execution_count": 9,
   "metadata": {
    "collapsed": true,
    "deletable": true,
    "editable": true
   },
   "outputs": [],
   "source": [
    "d = {\n",
    "    'apple' : 2,\n",
    "    'peach' : 4,\n",
    "    'orange' : 1,\n",
    "    'banana' : 5,\n",
    "    'cherry' : 3\n",
    "}"
   ]
  },
  {
   "cell_type": "code",
   "execution_count": 20,
   "metadata": {
    "collapsed": false,
    "deletable": true,
    "editable": true
   },
   "outputs": [
    {
     "data": {
      "text/plain": [
       "['appleapple',\n",
       " 'bananabananabananabananabanana',\n",
       " 'cherrycherrycherry',\n",
       " 'orange',\n",
       " 'peachpeachpeachpeach']"
      ]
     },
     "execution_count": 20,
     "metadata": {},
     "output_type": "execute_result"
    }
   ],
   "source": [
    "[word*d[word] for word in sorted(d)]\n"
   ]
  },
  {
   "cell_type": "markdown",
   "metadata": {
    "deletable": true,
    "editable": true
   },
   "source": [
    "---\n",
    "#### Problem 5: Convergence (15 points)\n",
    "\n",
    "Given a number $\\theta$, compute $\\cos(\\theta)$ via the Taylor series approximation for the cosine.  Without getting too heavy into numerical methods here, we're just going to say that we have sufficient precision when the last term added to the result is smaller in magnitude than $10^{-15}$.\n",
    "\n",
    "The Taylor series expansion for $\\cos(x)$ is\n",
    "\n",
    "$$ \\begin{align}\n",
    "   \\cos(x) & = \\sum_{n = 0}^\\infty (-1)^n \\frac{x^{2n}}{(2n)!} \\\\\n",
    "           & = 1 - \\frac{x^2}{2!} + \\frac{x^4}{4!} - \\frac{x^6}{6!} + \\dots \n",
    "   \\end{align} $$\n",
    "   \n",
    "Don't forget to check what the `math` library has available - try the tab-completion trick!"
   ]
  },
  {
   "cell_type": "code",
   "execution_count": 21,
   "metadata": {
    "collapsed": true,
    "deletable": true,
    "editable": true
   },
   "outputs": [],
   "source": [
    "from math import pi\n",
    "theta = pi/4."
   ]
  },
  {
   "cell_type": "code",
   "execution_count": 31,
   "metadata": {
    "collapsed": false,
    "deletable": true,
    "editable": true
   },
   "outputs": [],
   "source": [
    "#The only way I could think to do this in a comprehension would require python\n",
    "#to be able to fold iterables the way Haskell does, and I'm not sure it can.\n",
    "def fact(x):\n",
    "    if x == 0:\n",
    "        return 1\n",
    "    return x*fact(x-1)\n",
    "\n",
    "def cos(x):\n",
    "    n, result = 0, 0\n",
    "    while True:\n",
    "        term = (-1)**n * (x**(2*n)) / fact(2*n)\n",
    "        result+= term\n",
    "        if term < 10**-15:\n",
    "            return result\n",
    "        n += 1"
   ]
  },
  {
   "cell_type": "code",
   "execution_count": 32,
   "metadata": {
    "collapsed": false,
    "deletable": true,
    "editable": true
   },
   "outputs": [
    {
     "data": {
      "text/plain": [
       "0.6915748624659576"
      ]
     },
     "execution_count": 32,
     "metadata": {},
     "output_type": "execute_result"
    }
   ],
   "source": [
    "cos(theta)"
   ]
  },
  {
   "cell_type": "code",
   "execution_count": null,
   "metadata": {
    "collapsed": true,
    "deletable": true,
    "editable": true
   },
   "outputs": [],
   "source": []
  }
 ],
 "metadata": {
  "kernelspec": {
   "display_name": "Python 3",
   "language": "python",
   "name": "python3"
  },
  "language_info": {
   "codemirror_mode": {
    "name": "ipython",
    "version": 3
   },
   "file_extension": ".py",
   "mimetype": "text/x-python",
   "name": "python",
   "nbconvert_exporter": "python",
   "pygments_lexer": "ipython3",
   "version": "3.5.2"
  }
 },
 "nbformat": 4,
 "nbformat_minor": 2
}
