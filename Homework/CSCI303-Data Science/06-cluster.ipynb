{
 "cells": [
  {
   "cell_type": "markdown",
   "metadata": {},
   "source": [
    "## Project 6 : Clustering"
   ]
  },
  {
   "cell_type": "markdown",
   "metadata": {},
   "source": [
    "## Instructions\n",
    "\n",
    "### Description\n",
    "\n",
    "Practice clustering on a using the well known and very popular Iris Dataset! Yes, there are many examples out there; see if you can do it yourself :~) - We can easily hypothesize on how many clusters would yield the best result, so let us prove it through a simple experiment that you could repeat with additional data sets.\n",
    "\n",
    "### Grading\n",
    "\n",
    "For grading purposes, we will clear all outputs from all your cells and then run them all from the top.  Please test your notebook in the same fashion before turning it in.\n",
    "\n",
    "### Submitting Your Solution\n",
    "\n",
    "To submit your notebook, first clear all the cells (this won't matter too much this time, but for larger data sets in the future, it will make the file smaller).  Then use the File->Download As->Notebook to obtain the notebook file.  Finally, submit the notebook file on Canvas.\n"
   ]
  },
  {
   "cell_type": "markdown",
   "metadata": {},
   "source": [
    "### Problem 1: Data Generation (5 points)\n",
    "Review Chapter 5-11 K-Means in the course book (the book is also online on Eckert: 05.11-K-Means.ipynb).\n",
    "\n",
    "Load the Iris dataset and separate into X and y variables (our ground truth labels will just be used for visualization).\n",
    "\n",
    "Hypothesize on how many clusters would yield the best result!"
   ]
  },
  {
   "cell_type": "code",
   "execution_count": 1,
   "metadata": {},
   "outputs": [],
   "source": [
    "#!/usr/bin/env python3\n",
    "\n",
    "from sklearn.datasets import load_iris\n",
    "\n",
    "iris = load_iris()\n",
    "X=iris.data[:, :2]\n",
    "y=iris.target"
   ]
  },
  {
   "cell_type": "markdown",
   "metadata": {},
   "source": [
    "### Problem 2: Data exploration (10 points)\n",
    "\n",
    "This is the step where you would normally conduct any needed preprocessing, data wrangling, and investigation of the data.\n",
    "\n",
    "a. Using your skills from previous projects, provide answers to these questions: \n",
    "\n",
    "    1. How many features are provided?\n",
    "\n",
    "    2. How many total observations?\n",
    "\n",
    "    3. How many different labels are included, what are they called, and is it a balanced?\n",
    "        \n",
    "b. Create a 2D or 3D scatter plot of the original data (or PCA reduced data) using the y labels for color coding."
   ]
  },
  {
   "cell_type": "code",
   "execution_count": null,
   "metadata": {},
   "outputs": [],
   "source": []
  },
  {
   "cell_type": "markdown",
   "metadata": {},
   "source": [
    "### Problem 3: Unsupervised Learning - Clustering (15 points)\n",
    "Conduct clustering experiments with one of algorithms discussed in class (e.g., k-means) for number of clusters k = 2-10."
   ]
  },
  {
   "cell_type": "code",
   "execution_count": null,
   "metadata": {},
   "outputs": [],
   "source": []
  },
  {
   "cell_type": "markdown",
   "metadata": {},
   "source": [
    "### Problem 4: Evaluate results (20 points)\n",
    "\n",
    "Perform analysis of results using the above k = 2-10 and compute the Silhouette width** \n",
    "(for both a. and b., you can add to your above code or repeat it; depending on how you implemented problem 3).\n",
    "\n",
    "a. For each k (k = 2-10), what are the Silhouette width values.\n",
    "\n",
    "b. Create a 2D or 3D scatter plot utilizing the cluster assignments for color coding (this output should be using k from your best Silhouette result).     \n",
    "\n",
    "c. Discuss if your best number of clusters matches your hypothesis from Probblem 1.\n",
    "\n",
    "** Example Silhouette analysis here: http://scikit-learn.org/stable/auto_examples/cluster/plot_kmeans_silhouette_analysis.html"
   ]
  },
  {
   "cell_type": "code",
   "execution_count": null,
   "metadata": {},
   "outputs": [],
   "source": []
  }
 ],
 "metadata": {
  "kernelspec": {
   "display_name": "Python 3",
   "language": "python",
   "name": "python3"
  },
  "language_info": {
   "codemirror_mode": {
    "name": "ipython",
    "version": 3
   },
   "file_extension": ".py",
   "mimetype": "text/x-python",
   "name": "python",
   "nbconvert_exporter": "python",
   "pygments_lexer": "ipython3",
   "version": "3.6.2"
  }
 },
 "nbformat": 4,
 "nbformat_minor": 2
}
